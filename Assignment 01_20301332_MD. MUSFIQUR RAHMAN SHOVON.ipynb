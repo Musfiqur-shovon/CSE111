{
 "cells": [
  {
   "cell_type": "code",
   "execution_count": 1,
   "metadata": {},
   "outputs": [
    {
     "name": "stdout",
     "output_type": "stream",
     "text": [
      "HOusE\n",
      "HOUSE"
     ]
    }
   ],
   "source": [
    "# String\n",
    "# Task Number 01\n",
    "user = input()\n",
    "upper = 0\n",
    "lower = 0\n",
    "for i in user:\n",
    "    if ord(i) >= 65 and ord(i) <= 90:\n",
    "        upper += 1\n",
    "    elif ord(i) >= 97 and ord(i) <= 122:\n",
    "        lower += 1\n",
    "\n",
    "if upper > lower:\n",
    "    for f in user:\n",
    "        if ord(f) >= 97 and ord(f) <= 122:\n",
    "            new = ord(f) - 32\n",
    "            f = chr(new)\n",
    "            print(f,end=\"\")\n",
    "        else:\n",
    "            print(f,end=\"\")\n",
    "else:\n",
    "    for f in user:\n",
    "        if ord(f) >= 65 and ord(f) <= 90:\n",
    "            new = ord(f) + 32\n",
    "            f = chr(new)\n",
    "            print(f, end=\"\")\n",
    "        else:\n",
    "            print(f, end=\"\")"
   ]
  },
  {
   "cell_type": "code",
   "execution_count": 1,
   "metadata": {},
   "outputs": [
    {
     "name": "stdout",
     "output_type": "stream",
     "text": [
      "jhg231j213\n",
      "MIXED\n"
     ]
    }
   ],
   "source": [
    "# String\n",
    "# Task Number 02\n",
    "user = input()\n",
    "word = 0\n",
    "number = 0\n",
    "for i in user:\n",
    "    if (ord(i) >=97 and ord(i) <=122) or (ord(i) >=65 and ord(i) <=90):\n",
    "        word += 1\n",
    "    elif ord(i) >=48 and ord(i) <=57:\n",
    "        number += 1\n",
    "if word == len(user):\n",
    "    print(\"WORD\")\n",
    "elif number == len(user):\n",
    "    print(\"NUMBER\")\n",
    "else:\n",
    "    print(\"MIXED\")"
   ]
  },
  {
   "cell_type": "code",
   "execution_count": 1,
   "metadata": {},
   "outputs": [
    {
     "name": "stdout",
     "output_type": "stream",
     "text": [
      "baNgladEsh\n",
      "glad"
     ]
    }
   ],
   "source": [
    "# String\n",
    "# Task Number 03\n",
    "a = input()\n",
    "list =[]\n",
    "var_a = -1\n",
    "var_b = -1\n",
    "for i in range(0,len(a)):\n",
    "    if ord(a[i]) >= 65 and ord(a[i]) <= 90:\n",
    "        if var_a == -1:\n",
    "            var_a = i\n",
    "        else:\n",
    "            var_b = i\n",
    "\n",
    "if var_b - var_a -1 == 0:\n",
    "    print(\"Blank\")\n",
    "else:\n",
    "    for i in range(var_a + 1, var_b):\n",
    "        print(a[i], end=\"\")"
   ]
  },
  {
   "cell_type": "code",
   "execution_count": 2,
   "metadata": {},
   "outputs": [
    {
     "name": "stdout",
     "output_type": "stream",
     "text": [
      "The book is not too good!\n",
      "The book is not excellent!\n"
     ]
    }
   ],
   "source": [
    "# String\n",
    "#Task Number 04\n",
    "user = input()\n",
    "if \"too good\" in user:\n",
    "    user = user.replace(\"too good\", \"excellent\")\n",
    "    print(user)\n",
    "else:\n",
    "    print(user)"
   ]
  },
  {
   "cell_type": "code",
   "execution_count": 3,
   "metadata": {},
   "outputs": [
    {
     "name": "stdout",
     "output_type": "stream",
     "text": [
      "dean,tom\n",
      "Nothing in common\n"
     ]
    }
   ],
   "source": [
    "# String\n",
    "# Task Number 05\n",
    "user_one = input()\n",
    "list_one=user_one.split(\",\")\n",
    "\n",
    "a = list_one[0]\n",
    "b = list_one[1]\n",
    "uncommon = 0\n",
    "for i in a:\n",
    "    if i in b:\n",
    "        print(i,end=\"\")\n",
    "    else:\n",
    "        uncommon += 1\n",
    "for j in b:\n",
    "    if j in a:\n",
    "        print(j,end=\"\")\n",
    "    else:\n",
    "        uncommon += 1\n",
    "\n",
    "if uncommon == len(a) + len(b):\n",
    "    print(\"Nothing in common\")"
   ]
  },
  {
   "cell_type": "code",
   "execution_count": 5,
   "metadata": {},
   "outputs": [
    {
     "name": "stdout",
     "output_type": "stream",
     "text": [
      "ohmybracu\n",
      "Uppercase Missing,Digit missing,Special character missing\n"
     ]
    }
   ],
   "source": [
    "#String \n",
    "#Task Number 06\n",
    "\n",
    "user = input()\n",
    "upper = 0\n",
    "lower = 0\n",
    "number = 0\n",
    "spechar = 0\n",
    "for i in user:\n",
    "    if ord(i) >= 65 and ord(i) <= 90:\n",
    "        upper += 1\n",
    "    elif ord(i) >= 97 and ord(i) <= 122:\n",
    "        lower += 1\n",
    "    elif ord(i) >= 48 and ord(i) <= 57:\n",
    "        number += 1\n",
    "    else:\n",
    "        spechar += 1\n",
    "\n",
    "list = []\n",
    "if upper == 0:\n",
    "    list.append(\"Uppercase Missing\")\n",
    "if lower == 0:\n",
    "    list.append(\"Lowercase Missing\")\n",
    "if number == 0:\n",
    "    list.append(\"Digit missing\")\n",
    "if spechar == 0:\n",
    "    list.append(\"Special character missing\")\n",
    "if upper!=0 and lower!=0 and number!=0 and spechar!=0:\n",
    "    list.append(\"OK\")\n",
    "\n",
    "\n",
    "for i in range(0,len(list)):\n",
    "    if i == len(list)-1:\n",
    "        print(list[i])\n",
    "    else:\n",
    "        print(list[i],end=\",\")"
   ]
  },
  {
   "cell_type": "code",
   "execution_count": 2,
   "metadata": {},
   "outputs": [
    {
     "name": "stdout",
     "output_type": "stream",
     "text": [
      "10\n",
      "20\n",
      "20\n",
      "30\n",
      "10\n",
      "50\n",
      "90\n",
      "STOP\n",
      "10 - 2 times\n",
      "20 - 2 times\n",
      "30 - 1 times\n",
      "50 - 1 times\n",
      "90 - 1 times\n"
     ]
    }
   ],
   "source": [
    "# List\n",
    "# Task Number 01\n",
    "\n",
    "user = \"\"\n",
    "list = []\n",
    "while user != \"STOP\":\n",
    "    user = input()\n",
    "    list.append(user)\n",
    "list.pop()\n",
    "new = []\n",
    "for i in list:\n",
    "    if i not in new:\n",
    "        print(i,\"-\",list.count(i),\"times\")\n",
    "        new.append(i)"
   ]
  },
  {
   "cell_type": "code",
   "execution_count": 1,
   "metadata": {},
   "outputs": [
    {
     "name": "stdout",
     "output_type": "stream",
     "text": [
      "4\n",
      "1 2 3\n",
      "4 5 6\n",
      "10 11 12\n",
      "7 8 9\n",
      "33\n",
      "['10', '11', '12']\n"
     ]
    }
   ],
   "source": [
    "#List\n",
    "# Task Number 02\n",
    "\n",
    "n = int(input())\n",
    "final_sum = 0\n",
    "new_list = []\n",
    "for i in range(0,n):\n",
    "    user_one = input()\n",
    "    list_one = user_one.split(\" \")\n",
    "    sum = 0\n",
    "    for j in list_one:\n",
    "        sum = sum + int(j)\n",
    "    if final_sum < sum:\n",
    "        final_sum = sum\n",
    "        new_list = list_one\n",
    "\n",
    "print(final_sum)\n",
    "print(new_list)"
   ]
  },
  {
   "cell_type": "code",
   "execution_count": 6,
   "metadata": {},
   "outputs": [
    {
     "name": "stdout",
     "output_type": "stream",
     "text": [
      "2 3 6\n",
      "3 4 5\n",
      "[6, 8, 10, 9, 12, 15, 18, 24, 30]\n"
     ]
    }
   ],
   "source": [
    "#list problem solve\n",
    "# Task Number 03\n",
    "user_one = input()\n",
    "user_two = input()\n",
    "list_one = user_one.split(\" \")\n",
    "list_two = user_two.split(\" \")\n",
    "new_list = []\n",
    "for i in list_one:\n",
    "    for j in list_two:\n",
    "        new = int(i)*int(j)\n",
    "        new_list.append(new)\n",
    "print(new_list)"
   ]
  },
  {
   "cell_type": "code",
   "execution_count": null,
   "metadata": {},
   "outputs": [],
   "source": [
    "# List\n",
    "# Task Number 04\n",
    "\n",
    "user = \"\"\n",
    "while user != \"STOP\":\n",
    "    user = input()\n",
    "    list = user.split(\" \")\n",
    "    count = 0\n",
    "    for i in range(0, len(list) - 1):\n",
    "        a = int(list[i + 1]) - int(list[i])\n",
    "        if a < len(list):\n",
    "            count += 1\n",
    "    if user == \"STOP\":\n",
    "        break\n",
    "    elif count == len(list) - 1:\n",
    "        print(\"UB Jumper\")\n",
    "    else:\n",
    "        print(\"Not UB Jumper\")"
   ]
  },
  {
   "cell_type": "code",
   "execution_count": 7,
   "metadata": {},
   "outputs": [
    {
     "name": "stdout",
     "output_type": "stream",
     "text": [
      "Bracu1234\n",
      "acruB1234"
     ]
    }
   ],
   "source": [
    "#List problem solve\n",
    "# Task Number 05\n",
    "user = input()\n",
    "\n",
    "small = []\n",
    "capital = []\n",
    "number = []\n",
    "\n",
    "for i in user:\n",
    "    a = ord(i)\n",
    "    if a >=97 and a<=122:\n",
    "        small.append(i)\n",
    "    elif a >=65 and a<=90:\n",
    "        capital.append(i)\n",
    "    elif a >=48 and a<=57:\n",
    "        number.append(i)\n",
    "\n",
    "small.sort()\n",
    "capital.sort()\n",
    "number.sort()\n",
    "final = small + capital + number\n",
    "\n",
    "for i in final:\n",
    "    print(i,end=\"\")"
   ]
  },
  {
   "cell_type": "code",
   "execution_count": 2,
   "metadata": {},
   "outputs": [
    {
     "name": "stdout",
     "output_type": "stream",
     "text": [
      "a:100,b:100,c:200,d:300\n",
      "a:300,b:200,d:400,e:200\n",
      "{'a': 400, 'b': 300, 'd': 700, 'c': 200, 'e': 200}\n",
      "Values: (200, 300, 400, 700)\n"
     ]
    }
   ],
   "source": [
    "# Dictionary & Tuple\n",
    "# Task Number 01\n",
    "dic_one = {}\n",
    "dic_two = {}\n",
    "\n",
    "data1 = input()\n",
    "data1 = data1.split(',')\n",
    "\n",
    "data2 = input()\n",
    "data2 = data2.split(',')\n",
    "\n",
    "for a in range(len(data1)):\n",
    "    t = data1[a].split(':')\n",
    "    dic_one[t[0]] = int(t[1])\n",
    "\n",
    "for b in range(len(data2)):\n",
    "    t = data2[b].split(':')\n",
    "    dic_two[t[0]] = int(t[1])\n",
    "\n",
    "new ={}\n",
    "for i,j in dic_one.items():\n",
    "    for x,y in dic_two.items():\n",
    "        if i == x:\n",
    "            new[i] = j + y\n",
    "\n",
    "list = []\n",
    "for i,j in dic_one.items():\n",
    "    if i not in new.keys():\n",
    "        new[i] = j\n",
    "for i,j in dic_two.items():\n",
    "    if i not in new.keys():\n",
    "        new[i] = j\n",
    "for i in new.values():\n",
    "    if i not in list:\n",
    "        list.append(i)\n",
    "\n",
    "print(new)\n",
    "list.sort()\n",
    "tup = tuple(list)\n",
    "print(\"Values:\",tup)"
   ]
  },
  {
   "cell_type": "code",
   "execution_count": 1,
   "metadata": {},
   "outputs": [
    {
     "name": "stdout",
     "output_type": "stream",
     "text": [
      "10\n",
      "20\n",
      "20\n",
      "30\n",
      "10\n",
      "50\n",
      "90\n",
      "STOP\n",
      "10 - 2 times\n",
      "20 - 2 times\n",
      "30 - 1 times\n",
      "50 - 1 times\n",
      "90 - 1 times\n"
     ]
    }
   ],
   "source": [
    "# Dictionary & Tuple\n",
    "# Task Number 02\n",
    "\n",
    "user = \"\"\n",
    "dic = {}\n",
    "count = 1\n",
    "while user != \"STOP\":\n",
    "    if user != \"STOP\":\n",
    "        user = input()\n",
    "        dic[count] = user\n",
    "        count += 1\n",
    "    else:\n",
    "        pass\n",
    "\n",
    "new = {}\n",
    "for i,j in dic.items():\n",
    "    if j not in new.values():\n",
    "        new[i] = j\n",
    "        count = 0\n",
    "        if j != \"STOP\":\n",
    "            for k in dic.values():\n",
    "                if k == j:\n",
    "                    count += 1\n",
    "            print(j,\"-\",count,\"times\")"
   ]
  },
  {
   "cell_type": "code",
   "execution_count": 1,
   "metadata": {},
   "outputs": [
    {
     "name": "stdout",
     "output_type": "stream",
     "text": [
      "key1 : value1, key2 : value2, key3 : value1\n",
      "{' value1': ['key1 ', ' key3 '], ' value2': [' key2 ']}\n"
     ]
    }
   ],
   "source": [
    "#Dictionary & Tuple\n",
    "# Task Number 03\n",
    "\n",
    "user = {}\n",
    "data1 = input()\n",
    "data1 = data1.split(',')\n",
    "\n",
    "for a in range(len(data1)):\n",
    "    t = data1[a].split(':')\n",
    "    user[t[0]] = t[1]\n",
    "new = {}\n",
    "for i,j in user.items():\n",
    "    if j not in new.keys():\n",
    "        new[j] = [i]\n",
    "    else:\n",
    "        new[j] += [i]\n",
    "print(new)"
   ]
  },
  {
   "cell_type": "code",
   "execution_count": 2,
   "metadata": {},
   "outputs": [
    {
     "name": "stdout",
     "output_type": "stream",
     "text": [
      "evil\n",
      "live\n",
      "Those strings are anagrams.\n"
     ]
    }
   ],
   "source": [
    "#Dictionary & Tuple\n",
    "# Task Number 04\n",
    "\n",
    "user = \"\"\n",
    "dic = {}\n",
    "count = 1\n",
    "while not count == 3:\n",
    "    user = input()\n",
    "    dic[count] = user\n",
    "    count += 1\n",
    "s = \"\"\n",
    "for i in dic[1]:\n",
    "    s = i + s\n",
    "if s == dic[2]:\n",
    "    print(\"Those strings are anagrams.\")\n",
    "else:\n",
    "    print(\"Those strings are not anagrams.\")"
   ]
  },
  {
   "cell_type": "code",
   "execution_count": 3,
   "metadata": {},
   "outputs": [
    {
     "name": "stdout",
     "output_type": "stream",
     "text": [
      "Hello, World!\n",
      "4433555555666110966677755531111"
     ]
    }
   ],
   "source": [
    "# Dictionary & Tuple\n",
    "# Task Number 05\n",
    "\n",
    "a = {'a':2,'b':22,'c':222,'d':3,'e':33,'f':333,\n",
    "     'g':4,'h':44,'i':444,'j':5,'k':55,'l':555,\n",
    "     'm':6,'n':66,'o':666,'p':7,'q':77,'r':777,'s':7777,\n",
    "     't':8,'u':88,'v':888,'w':9,'x':99,'y':999,'z':9999,\n",
    "     \" \":0,\".\":1,\",\":11,\"?\":111,\"!\":1111,\":\":11111}\n",
    "\n",
    "user =input()\n",
    "user = user.lower()\n",
    "for i in user:\n",
    "    print(a[i],end=\"\")"
   ]
  }
 ],
 "metadata": {
  "kernelspec": {
   "display_name": "Python 3",
   "language": "python",
   "name": "python3"
  },
  "language_info": {
   "codemirror_mode": {
    "name": "ipython",
    "version": 3
   },
   "file_extension": ".py",
   "mimetype": "text/x-python",
   "name": "python",
   "nbconvert_exporter": "python",
   "pygments_lexer": "ipython3",
   "version": "3.7.6"
  }
 },
 "nbformat": 4,
 "nbformat_minor": 4
}
