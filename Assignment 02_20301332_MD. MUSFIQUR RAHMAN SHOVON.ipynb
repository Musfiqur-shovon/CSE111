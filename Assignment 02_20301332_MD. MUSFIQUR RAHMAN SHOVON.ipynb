{
 "cells": [
  {
   "cell_type": "code",
   "execution_count": null,
   "metadata": {},
   "outputs": [],
   "source": [
    "# Task Number 01\n",
    "number_one = int(input())\n",
    "number_two = int(input())\n",
    "def fraction_funcion(number_one,number_two):\n",
    "    try:\n",
    "        result_one = number_one / number_two\n",
    "        result_two = number_two / number_one\n",
    "        p = result_one - number_two\n",
    "        print(p)\n",
    "    except Exception:\n",
    "        print(\"0\")\n",
    "fraction_funcion(number_one,number_two)"
   ]
  },
  {
   "cell_type": "code",
   "execution_count": null,
   "metadata": {},
   "outputs": [],
   "source": [
    "# Task Number 02\n",
    "user_height = int(input())/100\n",
    "user_weight = int(input())\n",
    "def ami_mota_kano(height,weight):\n",
    "    bmi = round(weight/(height*height),1)\n",
    "    print(f\"Score is {bmi}.\",end=\" \")\n",
    "    if bmi < 18.5:\n",
    "        print(\"You are Underweight\")\n",
    "    elif bmi >= 18.5 and bmi <= 24.9:\n",
    "        print(\"You are Normal\")\n",
    "    elif bmi >= 25 and bmi <= 30:\n",
    "        print(\"You are Overweight\")\n",
    "    else:\n",
    "        print(\"You are Obese\")\n",
    "ami_mota_kano(user_height,user_weight)"
   ]
  },
  {
   "cell_type": "code",
   "execution_count": null,
   "metadata": {},
   "outputs": [],
   "source": [
    "#Task number 03\n",
    "number_one = int(input())\n",
    "number_two = int(input())\n",
    "divisor = int(input())\n",
    "\n",
    "def arguments(x,y,d):\n",
    "    sum = 0\n",
    "    for i in range(x,y):\n",
    "        if i%d == 0:\n",
    "            sum = sum + i\n",
    "    print(sum)\n",
    "\n",
    "arguments(number_one,number_two,divisor)"
   ]
  },
  {
   "cell_type": "code",
   "execution_count": null,
   "metadata": {},
   "outputs": [],
   "source": [
    "# Task Number 04\n",
    "recipe = input()\n",
    "place = input()\n",
    "dic = {\"BBQ Chicken Cheese Burger\" : 250, \"Beef Burger\": 170, \"Naga Drums\" : 200}\n",
    "def foodpanda(a,place=\"Mohakhali\"):\n",
    "    meal_cost = 0\n",
    "    for i,j in dic.items():\n",
    "        if a in i:\n",
    "            meal_cost = j\n",
    "    if place == \"Mohakhali\":\n",
    "        delivery_charge = 40\n",
    "    else:\n",
    "        delivery_charge = 60\n",
    "    tax = meal_cost * 0.08\n",
    "    total_price = meal_cost + delivery_charge + tax\n",
    "    print(total_price)\n",
    "foodpanda(recipe,place)"
   ]
  },
  {
   "cell_type": "code",
   "execution_count": null,
   "metadata": {},
   "outputs": [],
   "source": [
    "# Task Number 06\n",
    "def function_full_name(user_input):\n",
    "    list = ['a','e','i','o','u','A','E','I','O','U']\n",
    "    new_list =[]\n",
    "    for i in user:\n",
    "        if i in list:\n",
    "            new_list.append(i)\n",
    "    if len(new_list) != 0:\n",
    "        print(\"vowels:\",end='')\n",
    "        for i in range(0,len(new_list)):\n",
    "            if i == len(new_list) - 1:\n",
    "                print(new_list[i],'.',end='')\n",
    "            else:\n",
    "                print(new_list[i],',',end='')\n",
    "        print(f\"Total number of vowels: {len(new_list)}\")\n",
    "    else:\n",
    "        print(\"No vowels in the name\")\n",
    "\n",
    "user = input()\n",
    "function_full_name(user)"
   ]
  },
  {
   "cell_type": "code",
   "execution_count": null,
   "metadata": {},
   "outputs": [],
   "source": [
    "# Task Number 07\n",
    "user =input()\n",
    "new=\"\"\n",
    "s =\"\"\n",
    "for i in user:\n",
    "    if ord(i) != 32:\n",
    "        new = new + i\n",
    "for i in new:\n",
    "    s = i + s\n",
    "if new == s:\n",
    "    print(\"Palindrome\")\n",
    "else:\n",
    "    print(\"Not a palindrome\")"
   ]
  },
  {
   "cell_type": "code",
   "execution_count": null,
   "metadata": {},
   "outputs": [],
   "source": [
    "#Task Number 08\n",
    "day_input = int(input())\n",
    "def day_calculator(day):\n",
    "    year = day // 365\n",
    "    day = day % 365\n",
    "    month = day // 30\n",
    "    day = day % 30\n",
    "    print(f\"{year} years, {month} months and {day} days\")\n",
    "day_calculator(day_input)"
   ]
  },
  {
   "cell_type": "code",
   "execution_count": null,
   "metadata": {},
   "outputs": [],
   "source": [
    "# Task Number 09\n",
    "user_input_sentence = input()\n",
    "def word_to_captalize_letter(user_sentence):\n",
    "    first_word = user_sentence[0].upper()\n",
    "    new_sentence = \"\"\n",
    "    new_sentence += first_word\n",
    "    list= [\".\",\"!\",\"?\"]\n",
    "    for i in range(1,len(user_sentence)):\n",
    "        if (user_sentence[i - 2] in list) and user_sentence[i-1]==\" \":\n",
    "            new_word = user_sentence[i].upper()\n",
    "            new_sentence = new_sentence + new_word\n",
    "        elif user_sentence[i] == 'i' and user_sentence[i - 1] == \" \" and user_sentence[i + 1] == ' ':\n",
    "            new_word = user_sentence[i].upper()\n",
    "            new_sentence += new_word\n",
    "        else:\n",
    "            new_sentence += user_sentence[i]\n",
    "    print(new_sentence)\n",
    "word_to_captalize_letter(user_input_sentence)"
   ]
  }
 ],
 "metadata": {
  "kernelspec": {
   "display_name": "Python 3",
   "language": "python",
   "name": "python3"
  },
  "language_info": {
   "codemirror_mode": {
    "name": "ipython",
    "version": 3
   },
   "file_extension": ".py",
   "mimetype": "text/x-python",
   "name": "python",
   "nbconvert_exporter": "python",
   "pygments_lexer": "ipython3",
   "version": "3.7.6"
  }
 },
 "nbformat": 4,
 "nbformat_minor": 4
}
